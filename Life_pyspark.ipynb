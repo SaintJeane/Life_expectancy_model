{
 "cells": [
  {
   "cell_type": "markdown",
   "id": "6d46920b-38b6-4261-a61b-be86e6b2c72f",
   "metadata": {},
   "source": [
    "## Steps to follow:\n",
    "- Import some of the required libraries\n",
    "- Load dataset\n",
    "- Exploratory data analysis\n",
    "- Data preprocessing\n",
    "- Assemble feature columns to single vector\n",
    "- Split the data\n",
    "- Scale features\n",
    "- Train the regression model\n",
    "- Evaluate the model\n",
    "- (Hyperparameter tuning)"
   ]
  },
  {
   "cell_type": "code",
   "execution_count": 1,
   "id": "52acc5c6-918e-41c3-8b51-004ad00b4360",
   "metadata": {},
   "outputs": [],
   "source": [
    "from pyspark.sql import SparkSession\n",
    "from pyspark.sql.functions import col, format_number\n",
    "# from pyspark.ml.feature import Imputer \n",
    "from pyspark.ml import Pipeline\n",
    "from pyspark.ml.feature import StringIndexer, VectorAssembler, OneHotEncoder, StandardScaler\n",
    "from pyspark.ml.regression import LinearRegression "
   ]
  },
  {
   "cell_type": "code",
   "execution_count": 2,
   "id": "3882272a-76a4-405b-96a2-f9ea0f799dc9",
   "metadata": {},
   "outputs": [],
   "source": [
    "spark = SparkSession.builder.appName(\"Life Expectancy Model\").config(\"spark.executor.memory\", \"4g\").config(\"spark.driver.memory\", \"4g\").getOrCreate()"
   ]
  },
  {
   "cell_type": "code",
   "execution_count": 3,
   "id": "6f6dfd13-2686-457b-941d-b9bf516b8511",
   "metadata": {},
   "outputs": [
    {
     "data": {
      "text/html": [
       "\n",
       "            <div>\n",
       "                <p><b>SparkSession - in-memory</b></p>\n",
       "                \n",
       "        <div>\n",
       "            <p><b>SparkContext</b></p>\n",
       "\n",
       "            <p><a href=\"http://host.docker.internal:4040\">Spark UI</a></p>\n",
       "\n",
       "            <dl>\n",
       "              <dt>Version</dt>\n",
       "                <dd><code>v3.5.5</code></dd>\n",
       "              <dt>Master</dt>\n",
       "                <dd><code>local[*]</code></dd>\n",
       "              <dt>AppName</dt>\n",
       "                <dd><code>Life Expectancy Model</code></dd>\n",
       "            </dl>\n",
       "        </div>\n",
       "        \n",
       "            </div>\n",
       "        "
      ],
      "text/plain": [
       "<pyspark.sql.session.SparkSession at 0x216ba84e510>"
      ]
     },
     "execution_count": 3,
     "metadata": {},
     "output_type": "execute_result"
    }
   ],
   "source": [
    "spark"
   ]
  },
  {
   "cell_type": "code",
   "execution_count": 4,
   "id": "a54ecbfe-f31c-4ccb-9042-096c2cf5ed3e",
   "metadata": {},
   "outputs": [
    {
     "name": "stdout",
     "output_type": "stream",
     "text": [
      "False\n"
     ]
    }
   ],
   "source": [
    "#checking if spark session is active\n",
    "print(spark._sc._jsc.sc().isStopped())"
   ]
  },
  {
   "cell_type": "code",
   "execution_count": 5,
   "id": "b357f03e-f35f-44bd-81dc-bcf76d6deda7",
   "metadata": {
    "scrolled": true
   },
   "outputs": [
    {
     "name": "stdout",
     "output_type": "stream",
     "text": [
      "+-----------+----+----------+----------------+---------------+-------------+-------+----------------------+-----------+--------+-----+------------------+-----+-----------------+-----------+---------+-----------+-----------+---------------------+-------------------+-------------------------------+---------+\n",
      "|    Country|Year|    Status|Life expectancy |Adult Mortality|infant deaths|Alcohol|percentage expenditure|Hepatitis B|Measles | BMI |under-five deaths |Polio|Total expenditure|Diphtheria | HIV/AIDS|        GDP| Population| thinness  1-19 years| thinness 5-9 years|Income composition of resources|Schooling|\n",
      "+-----------+----+----------+----------------+---------------+-------------+-------+----------------------+-----------+--------+-----+------------------+-----+-----------------+-----------+---------+-----------+-----------+---------------------+-------------------+-------------------------------+---------+\n",
      "|Afghanistan|2015|Developing|            65.0|            263|           62|   0.01|           71.27962362|         65|    1154| 19.1|                83|    6|             8.16|         65|      0.1|  584.25921|3.3736494E7|                 17.2|               17.3|                          0.479|     10.1|\n",
      "|Afghanistan|2014|Developing|            59.9|            271|           64|   0.01|           73.52358168|         62|     492| 18.6|                86|   58|             8.18|         62|      0.1| 612.696514|   327582.0|                 17.5|               17.5|                          0.476|     10.0|\n",
      "|Afghanistan|2013|Developing|            59.9|            268|           66|   0.01|           73.21924272|         64|     430| 18.1|                89|   62|             8.13|         64|      0.1| 631.744976|3.1731688E7|                 17.7|               17.7|                           0.47|      9.9|\n",
      "|Afghanistan|2012|Developing|            59.5|            272|           69|   0.01|            78.1842153|         67|    2787| 17.6|                93|   67|             8.52|         67|      0.1|    669.959|  3696958.0|                 17.9|               18.0|                          0.463|      9.8|\n",
      "|Afghanistan|2011|Developing|            59.2|            275|           71|   0.01|           7.097108703|         68|    3013| 17.2|                97|   68|             7.87|         68|      0.1|  63.537231|  2978599.0|                 18.2|               18.2|                          0.454|      9.5|\n",
      "|Afghanistan|2010|Developing|            58.8|            279|           74|   0.01|           79.67936736|         66|    1989| 16.7|               102|   66|              9.2|         66|      0.1|  553.32894|  2883167.0|                 18.4|               18.4|                          0.448|      9.2|\n",
      "|Afghanistan|2009|Developing|            58.6|            281|           77|   0.01|           56.76221682|         63|    2861| 16.2|               106|   63|             9.42|         63|      0.1|445.8932979|   284331.0|                 18.6|               18.7|                          0.434|      8.9|\n",
      "|Afghanistan|2008|Developing|            58.1|            287|           80|   0.03|           25.87392536|         64|    1599| 15.7|               110|   64|             8.33|         64|      0.1|373.3611163|  2729431.0|                 18.8|               18.9|                          0.433|      8.7|\n",
      "|Afghanistan|2007|Developing|            57.5|            295|           82|   0.02|           10.91015598|         63|    1141| 15.2|               113|   63|             6.73|         63|      0.1| 369.835796|2.6616792E7|                 19.0|               19.1|                          0.415|      8.4|\n",
      "|Afghanistan|2006|Developing|            57.3|            295|           84|   0.03|           17.17151751|         64|    1990| 14.7|               116|   58|             7.43|         58|      0.1|  272.56377|  2589345.0|                 19.2|               19.3|                          0.405|      8.1|\n",
      "|Afghanistan|2005|Developing|            57.3|            291|           85|   0.02|           1.388647732|         66|    1296| 14.2|               118|   58|              8.7|         58|      0.1| 25.2941299|   257798.0|                 19.3|               19.5|                          0.396|      7.9|\n",
      "|Afghanistan|2004|Developing|            57.0|            293|           87|   0.02|           15.29606643|         67|     466| 13.8|               120|    5|             8.79|          5|      0.1|219.1413528|2.4118979E7|                 19.5|               19.7|                          0.381|      6.8|\n",
      "|Afghanistan|2003|Developing|            56.7|            295|           87|   0.01|           11.08905273|         65|     798| 13.4|               122|   41|             8.82|         41|      0.1|198.7285436|  2364851.0|                 19.7|               19.9|                          0.373|      6.5|\n",
      "|Afghanistan|2002|Developing|            56.2|              3|           88|   0.01|           16.88735091|         64|    2486| 13.0|               122|   36|             7.76|         36|      0.1|  187.84595|2.1979923E7|                 19.9|                2.2|                          0.341|      6.2|\n",
      "|Afghanistan|2001|Developing|            55.3|            316|           88|   0.01|            10.5747282|         63|    8762| 12.6|               122|   35|              7.8|         33|      0.1|  117.49698|  2966463.0|                  2.1|                2.4|                           0.34|      5.9|\n",
      "|Afghanistan|2000|Developing|            54.8|            321|           88|   0.01|              10.42496|         62|    6532| 12.2|               122|   24|              8.2|         24|      0.1|     114.56|   293756.0|                  2.3|                2.5|                          0.338|      5.5|\n",
      "|    Albania|2015|Developing|            77.8|             74|            0|    4.6|           364.9752287|         99|       0| 58.0|                 0|   99|              6.0|         99|      0.1| 3954.22783|    28873.0|                  1.2|                1.3|                          0.762|     14.2|\n",
      "|    Albania|2014|Developing|            77.5|              8|            0|   4.51|           428.7490668|         98|       0| 57.2|                 1|   98|             5.88|         98|      0.1|4575.763787|   288914.0|                  1.2|                1.3|                          0.761|     14.2|\n",
      "|    Albania|2013|Developing|            77.2|             84|            0|   4.76|           430.8769785|         99|       0| 56.5|                 1|   99|             5.66|         99|      0.1| 4414.72314|   289592.0|                  1.3|                1.4|                          0.759|     14.2|\n",
      "|    Albania|2012|Developing|            76.9|             86|            0|   5.14|           412.4433563|         99|       9| 55.8|                 1|   99|             5.59|         99|      0.1| 4247.61438|     2941.0|                  1.3|                1.4|                          0.752|     14.2|\n",
      "+-----------+----+----------+----------------+---------------+-------------+-------+----------------------+-----------+--------+-----+------------------+-----+-----------------+-----------+---------+-----------+-----------+---------------------+-------------------+-------------------------------+---------+\n",
      "only showing top 20 rows\n",
      "\n"
     ]
    }
   ],
   "source": [
    "df = spark.read.csv(\"C:/Users/VICTUS 15/OneDrive/Desktop/Life Expectancy Model Spark/Life Expectancy Data.csv\", header = True, inferSchema = True)\n",
    "df.show()"
   ]
  },
  {
   "cell_type": "code",
   "execution_count": 6,
   "id": "821ef74a-6e75-4623-b5ee-f462f2c51afe",
   "metadata": {},
   "outputs": [
    {
     "data": {
      "text/plain": [
       "22"
      ]
     },
     "execution_count": 6,
     "metadata": {},
     "output_type": "execute_result"
    }
   ],
   "source": [
    "len(df.columns)"
   ]
  },
  {
   "cell_type": "code",
   "execution_count": 7,
   "id": "92e548dd-3342-4325-b73e-6664126ce626",
   "metadata": {},
   "outputs": [
    {
     "data": {
      "text/plain": [
       "2938"
      ]
     },
     "execution_count": 7,
     "metadata": {},
     "output_type": "execute_result"
    }
   ],
   "source": [
    "df.count()"
   ]
  },
  {
   "cell_type": "code",
   "execution_count": 8,
   "id": "ef7653cb-006e-4956-affa-70955f947102",
   "metadata": {
    "scrolled": true
   },
   "outputs": [
    {
     "data": {
      "text/plain": [
       "['Country',\n",
       " 'Year',\n",
       " 'Status',\n",
       " 'Life expectancy ',\n",
       " 'Adult Mortality',\n",
       " 'infant deaths',\n",
       " 'Alcohol',\n",
       " 'percentage expenditure',\n",
       " 'Hepatitis B',\n",
       " 'Measles ',\n",
       " ' BMI ',\n",
       " 'under-five deaths ',\n",
       " 'Polio',\n",
       " 'Total expenditure',\n",
       " 'Diphtheria ',\n",
       " ' HIV/AIDS',\n",
       " 'GDP',\n",
       " 'Population',\n",
       " ' thinness  1-19 years',\n",
       " ' thinness 5-9 years',\n",
       " 'Income composition of resources',\n",
       " 'Schooling']"
      ]
     },
     "execution_count": 8,
     "metadata": {},
     "output_type": "execute_result"
    }
   ],
   "source": [
    "df.columns"
   ]
  },
  {
   "cell_type": "code",
   "execution_count": 9,
   "id": "29d9065a-9349-4f4f-ae01-b9023eae9967",
   "metadata": {
    "scrolled": true
   },
   "outputs": [
    {
     "name": "stdout",
     "output_type": "stream",
     "text": [
      "+----------+\n",
      "|    Status|\n",
      "+----------+\n",
      "|Developing|\n",
      "|Developing|\n",
      "|Developing|\n",
      "|Developing|\n",
      "|Developing|\n",
      "|Developing|\n",
      "|Developing|\n",
      "|Developing|\n",
      "|Developing|\n",
      "|Developing|\n",
      "|Developing|\n",
      "|Developing|\n",
      "|Developing|\n",
      "|Developing|\n",
      "|Developing|\n",
      "|Developing|\n",
      "|Developing|\n",
      "|Developing|\n",
      "|Developing|\n",
      "|Developing|\n",
      "+----------+\n",
      "only showing top 20 rows\n",
      "\n"
     ]
    }
   ],
   "source": [
    "df.select(\"Status\").show()"
   ]
  },
  {
   "cell_type": "code",
   "execution_count": 10,
   "id": "b7fa268d-0201-497a-8804-37391c10e964",
   "metadata": {},
   "outputs": [
    {
     "data": {
      "text/plain": [
       "DataFrame[summary: string, Country: string, Year: string, Status: string, Life expectancy : string, Adult Mortality: string, infant deaths: string, Alcohol: string, percentage expenditure: string, Hepatitis B: string, Measles : string,  BMI : string, under-five deaths : string, Polio: string, Total expenditure: string, Diphtheria : string,  HIV/AIDS: string, GDP: string, Population: string,  thinness  1-19 years: string,  thinness 5-9 years: string, Income composition of resources: string, Schooling: string]"
      ]
     },
     "execution_count": 10,
     "metadata": {},
     "output_type": "execute_result"
    }
   ],
   "source": [
    "df.describe()"
   ]
  },
  {
   "cell_type": "code",
   "execution_count": 11,
   "id": "733ffe9c-8d34-4776-aa99-50b245153ff5",
   "metadata": {},
   "outputs": [
    {
     "name": "stdout",
     "output_type": "stream",
     "text": [
      "root\n",
      " |-- Country: string (nullable = true)\n",
      " |-- Year: integer (nullable = true)\n",
      " |-- Status: string (nullable = true)\n",
      " |-- Life expectancy : double (nullable = true)\n",
      " |-- Adult Mortality: integer (nullable = true)\n",
      " |-- infant deaths: integer (nullable = true)\n",
      " |-- Alcohol: double (nullable = true)\n",
      " |-- percentage expenditure: double (nullable = true)\n",
      " |-- Hepatitis B: integer (nullable = true)\n",
      " |-- Measles : integer (nullable = true)\n",
      " |--  BMI : double (nullable = true)\n",
      " |-- under-five deaths : integer (nullable = true)\n",
      " |-- Polio: integer (nullable = true)\n",
      " |-- Total expenditure: double (nullable = true)\n",
      " |-- Diphtheria : integer (nullable = true)\n",
      " |--  HIV/AIDS: double (nullable = true)\n",
      " |-- GDP: double (nullable = true)\n",
      " |-- Population: double (nullable = true)\n",
      " |--  thinness  1-19 years: double (nullable = true)\n",
      " |--  thinness 5-9 years: double (nullable = true)\n",
      " |-- Income composition of resources: double (nullable = true)\n",
      " |-- Schooling: double (nullable = true)\n",
      "\n"
     ]
    }
   ],
   "source": [
    "df.printSchema()"
   ]
  },
  {
   "cell_type": "code",
   "execution_count": 12,
   "id": "103cc2e5-cec9-4c9e-8b98-1c7e8a5d7a7b",
   "metadata": {},
   "outputs": [
    {
     "name": "stdout",
     "output_type": "stream",
     "text": [
      "+----------+-----+\n",
      "|    Status|count|\n",
      "+----------+-----+\n",
      "| Developed|  512|\n",
      "|Developing| 2426|\n",
      "+----------+-----+\n",
      "\n"
     ]
    }
   ],
   "source": [
    "df.groupBy(\"Status\").count().show()"
   ]
  },
  {
   "cell_type": "code",
   "execution_count": 13,
   "id": "664d3a63-2776-40e7-a089-6795744460f4",
   "metadata": {},
   "outputs": [
    {
     "name": "stdout",
     "output_type": "stream",
     "text": [
      "+---------+-----+\n",
      "| HIV/AIDS|count|\n",
      "+---------+-----+\n",
      "|     13.4|    4|\n",
      "|     14.9|    1|\n",
      "|      2.4|   12|\n",
      "|      8.0|    3|\n",
      "|     15.7|    3|\n",
      "|     25.1|    1|\n",
      "|     24.7|    2|\n",
      "|     49.9|    1|\n",
      "|     26.4|    1|\n",
      "|     46.4|    1|\n",
      "|      5.4|    4|\n",
      "|      7.0|    3|\n",
      "|     50.3|    1|\n",
      "|     15.9|    2|\n",
      "|     11.5|    1|\n",
      "|      3.5|    7|\n",
      "|      6.1|    1|\n",
      "|      9.5|    1|\n",
      "|     11.6|    2|\n",
      "|      7.7|    4|\n",
      "+---------+-----+\n",
      "only showing top 20 rows\n",
      "\n"
     ]
    }
   ],
   "source": [
    "df.groupBy(' HIV/AIDS').count().show()"
   ]
  },
  {
   "cell_type": "code",
   "execution_count": 14,
   "id": "4336859c-b1e2-44bc-a00e-6cb452e7fde8",
   "metadata": {},
   "outputs": [
    {
     "name": "stdout",
     "output_type": "stream",
     "text": [
      "+--------------------+-----+\n",
      "|             Country|count|\n",
      "+--------------------+-----+\n",
      "|       Côte d'Ivoire|   16|\n",
      "|                Chad|   16|\n",
      "|Micronesia (Feder...|   16|\n",
      "|            Paraguay|   16|\n",
      "|               Yemen|   16|\n",
      "|             Senegal|   16|\n",
      "|          Cabo Verde|   16|\n",
      "|              Sweden|   16|\n",
      "|            Kiribati|   16|\n",
      "|   Republic of Korea|   16|\n",
      "|              Guyana|   16|\n",
      "|             Eritrea|   16|\n",
      "|         Philippines|   16|\n",
      "|            Djibouti|   16|\n",
      "|               Tonga|   16|\n",
      "|            Malaysia|   16|\n",
      "|           Singapore|   16|\n",
      "|                Fiji|   16|\n",
      "|              Turkey|   16|\n",
      "|              Malawi|   16|\n",
      "+--------------------+-----+\n",
      "only showing top 20 rows\n",
      "\n"
     ]
    }
   ],
   "source": [
    "df.groupBy('Country').count().show()"
   ]
  },
  {
   "cell_type": "code",
   "execution_count": 15,
   "id": "fecdc7d7-2460-4de7-8b4f-bd2d4be54e71",
   "metadata": {},
   "outputs": [
    {
     "name": "stdout",
     "output_type": "stream",
     "text": [
      "+----+-----+\n",
      "| BMI|count|\n",
      "+----+-----+\n",
      "|13.4|    3|\n",
      "|49.8|    2|\n",
      "|56.8|    7|\n",
      "|15.5|    6|\n",
      "|14.9|    7|\n",
      "|26.7|    7|\n",
      "|64.2|    4|\n",
      "|15.4|    8|\n",
      "|47.5|    4|\n",
      "| 2.4|    5|\n",
      "|53.3|    8|\n",
      "|37.1|    1|\n",
      "|15.7|    6|\n",
      "|55.8|   16|\n",
      "|45.3|    7|\n",
      "|67.0|    4|\n",
      "|25.1|    2|\n",
      "|56.5|   13|\n",
      "|49.9|   11|\n",
      "|18.3|    7|\n",
      "+----+-----+\n",
      "only showing top 20 rows\n",
      "\n"
     ]
    }
   ],
   "source": [
    "# Strip leading and trailing spaces in column names\n",
    "df = df.select([col(c).alias(c.strip()) for c in df.columns])\n",
    "df.groupBy('BMI').count().show()"
   ]
  },
  {
   "cell_type": "code",
   "execution_count": 16,
   "id": "9536d0a2-580f-46d3-bc69-a9504eafdc1f",
   "metadata": {},
   "outputs": [
    {
     "data": {
      "text/plain": [
       "['Country',\n",
       " 'Year',\n",
       " 'Status',\n",
       " 'Life expectancy',\n",
       " 'Adult Mortality',\n",
       " 'infant deaths',\n",
       " 'Alcohol',\n",
       " 'percentage expenditure',\n",
       " 'Hepatitis B',\n",
       " 'Measles',\n",
       " 'BMI',\n",
       " 'under-five deaths',\n",
       " 'Polio',\n",
       " 'Total expenditure',\n",
       " 'Diphtheria',\n",
       " 'HIV/AIDS',\n",
       " 'GDP',\n",
       " 'Population',\n",
       " 'thinness  1-19 years',\n",
       " 'thinness 5-9 years',\n",
       " 'Income composition of resources',\n",
       " 'Schooling']"
      ]
     },
     "execution_count": 16,
     "metadata": {},
     "output_type": "execute_result"
    }
   ],
   "source": [
    "#Checking the spacing between the column names\n",
    "df.columns"
   ]
  },
  {
   "cell_type": "code",
   "execution_count": 17,
   "id": "991ab61b-5cb1-475f-afe7-3c030d976127",
   "metadata": {},
   "outputs": [
    {
     "name": "stdout",
     "output_type": "stream",
     "text": [
      "+--------------------+\n",
      "|     sum(Population)|\n",
      "+--------------------+\n",
      "|2.915421552444001E10|\n",
      "+--------------------+\n",
      "\n"
     ]
    }
   ],
   "source": [
    "df.agg({'Population':'sum'}).show()"
   ]
  },
  {
   "cell_type": "code",
   "execution_count": 18,
   "id": "b74177f7-6fb8-4a91-a04d-d363a439e708",
   "metadata": {},
   "outputs": [],
   "source": [
    "#########"
   ]
  },
  {
   "cell_type": "markdown",
   "id": "4b7e8dab-8e24-4239-b05b-3a0238fdae07",
   "metadata": {},
   "source": [
    "### Data Preprocessing"
   ]
  },
  {
   "cell_type": "code",
   "execution_count": 19,
   "id": "4329ec7a-c1d4-40b9-b636-a5aaee38d2d0",
   "metadata": {},
   "outputs": [],
   "source": [
    "df2 = df.na.drop()"
   ]
  },
  {
   "cell_type": "code",
   "execution_count": 20,
   "id": "8ce68a6e-ff9c-4490-95c8-40ec78d07deb",
   "metadata": {},
   "outputs": [
    {
     "name": "stdout",
     "output_type": "stream",
     "text": [
      "+----+-----+\n",
      "|Year|count|\n",
      "+----+-----+\n",
      "|2003|   95|\n",
      "|2007|  120|\n",
      "|2015|    2|\n",
      "|2006|  114|\n",
      "|2013|  130|\n",
      "|2014|  131|\n",
      "|2004|  103|\n",
      "|2012|  129|\n",
      "|2009|  126|\n",
      "|2001|   66|\n",
      "|2005|  110|\n",
      "|2000|   61|\n",
      "|2010|  128|\n",
      "|2011|  130|\n",
      "|2008|  123|\n",
      "|2002|   81|\n",
      "+----+-----+\n",
      "\n"
     ]
    }
   ],
   "source": [
    "df2.groupby(\"Year\").count().show()"
   ]
  },
  {
   "cell_type": "code",
   "execution_count": 21,
   "id": "9cfc89da-e49f-4c14-aa7c-ce35574fdee0",
   "metadata": {},
   "outputs": [
    {
     "data": {
      "text/plain": [
       "1649"
      ]
     },
     "execution_count": 21,
     "metadata": {},
     "output_type": "execute_result"
    }
   ],
   "source": [
    "df2.count() #from 2938 to 1649"
   ]
  },
  {
   "cell_type": "code",
   "execution_count": 22,
   "id": "e39eedc3-f3e4-49ae-8598-62eb30f8f3a6",
   "metadata": {},
   "outputs": [
    {
     "data": {
      "text/plain": [
       "22"
      ]
     },
     "execution_count": 22,
     "metadata": {},
     "output_type": "execute_result"
    }
   ],
   "source": [
    "len(df2.columns)"
   ]
  },
  {
   "cell_type": "code",
   "execution_count": 23,
   "id": "80d4ddff-86fc-4325-934e-7b817449600b",
   "metadata": {},
   "outputs": [],
   "source": [
    "columns_to_index = ['Country', 'Status']\n",
    "indexers = [StringIndexer(inputCol = col, outputCol = f'{col}_indexed') for col in columns_to_index]\n",
    "\n",
    "pipeline = Pipeline(stages=indexers)\n",
    "indexed_data = pipeline.fit(df2).transform(df2)\n"
   ]
  },
  {
   "cell_type": "code",
   "execution_count": 24,
   "id": "8dad5d9f-b58a-4bb1-9421-2092f249edc6",
   "metadata": {},
   "outputs": [
    {
     "data": {
      "text/plain": [
       "['Country',\n",
       " 'Year',\n",
       " 'Status',\n",
       " 'Life expectancy',\n",
       " 'Adult Mortality',\n",
       " 'infant deaths',\n",
       " 'Alcohol',\n",
       " 'percentage expenditure',\n",
       " 'Hepatitis B',\n",
       " 'Measles',\n",
       " 'BMI',\n",
       " 'under-five deaths',\n",
       " 'Polio',\n",
       " 'Total expenditure',\n",
       " 'Diphtheria',\n",
       " 'HIV/AIDS',\n",
       " 'GDP',\n",
       " 'Population',\n",
       " 'thinness  1-19 years',\n",
       " 'thinness 5-9 years',\n",
       " 'Income composition of resources',\n",
       " 'Schooling']"
      ]
     },
     "execution_count": 24,
     "metadata": {},
     "output_type": "execute_result"
    }
   ],
   "source": [
    "df2.columns"
   ]
  },
  {
   "cell_type": "code",
   "execution_count": 25,
   "id": "1d7098ac-1f8a-49fc-8341-213a2c43c1d4",
   "metadata": {},
   "outputs": [
    {
     "name": "stdout",
     "output_type": "stream",
     "text": [
      "+---------------+--------------+\n",
      "|Country_indexed|Status_indexed|\n",
      "+---------------+--------------+\n",
      "|            0.0|           0.0|\n",
      "|            0.0|           0.0|\n",
      "|            0.0|           0.0|\n",
      "|            0.0|           0.0|\n",
      "|            0.0|           0.0|\n",
      "|            0.0|           0.0|\n",
      "|            0.0|           0.0|\n",
      "|            0.0|           0.0|\n",
      "|            0.0|           0.0|\n",
      "|            0.0|           0.0|\n",
      "|            0.0|           0.0|\n",
      "|            0.0|           0.0|\n",
      "|            0.0|           0.0|\n",
      "|            0.0|           0.0|\n",
      "|            0.0|           0.0|\n",
      "|            0.0|           0.0|\n",
      "|            1.0|           0.0|\n",
      "|            1.0|           0.0|\n",
      "|            1.0|           0.0|\n",
      "|            1.0|           0.0|\n",
      "+---------------+--------------+\n",
      "only showing top 20 rows\n",
      "\n"
     ]
    }
   ],
   "source": [
    "indexed_data.select('Country_indexed', 'Status_indexed').show()"
   ]
  },
  {
   "cell_type": "code",
   "execution_count": 26,
   "id": "2764a214-9633-4b87-8413-907b9a63e052",
   "metadata": {},
   "outputs": [
    {
     "data": {
      "text/plain": [
       "['Country',\n",
       " 'Year',\n",
       " 'Status',\n",
       " 'Life expectancy',\n",
       " 'Adult Mortality',\n",
       " 'infant deaths',\n",
       " 'Alcohol',\n",
       " 'percentage expenditure',\n",
       " 'Hepatitis B',\n",
       " 'Measles',\n",
       " 'BMI',\n",
       " 'under-five deaths',\n",
       " 'Polio',\n",
       " 'Total expenditure',\n",
       " 'Diphtheria',\n",
       " 'HIV/AIDS',\n",
       " 'GDP',\n",
       " 'Population',\n",
       " 'thinness  1-19 years',\n",
       " 'thinness 5-9 years',\n",
       " 'Income composition of resources',\n",
       " 'Schooling',\n",
       " 'Country_indexed',\n",
       " 'Status_indexed']"
      ]
     },
     "execution_count": 26,
     "metadata": {},
     "output_type": "execute_result"
    }
   ],
   "source": [
    "indexed_data.columns"
   ]
  },
  {
   "cell_type": "code",
   "execution_count": 27,
   "id": "af0422dd-e558-483b-a25d-da3abaa6e0b8",
   "metadata": {},
   "outputs": [
    {
     "name": "stdout",
     "output_type": "stream",
     "text": [
      "+----------+--------------+\n",
      "|    Status|Status_encoded|\n",
      "+----------+--------------+\n",
      "|Developing| (1,[0],[1.0])|\n",
      "|Developing| (1,[0],[1.0])|\n",
      "|Developing| (1,[0],[1.0])|\n",
      "|Developing| (1,[0],[1.0])|\n",
      "|Developing| (1,[0],[1.0])|\n",
      "|Developing| (1,[0],[1.0])|\n",
      "|Developing| (1,[0],[1.0])|\n",
      "|Developing| (1,[0],[1.0])|\n",
      "|Developing| (1,[0],[1.0])|\n",
      "|Developing| (1,[0],[1.0])|\n",
      "|Developing| (1,[0],[1.0])|\n",
      "|Developing| (1,[0],[1.0])|\n",
      "|Developing| (1,[0],[1.0])|\n",
      "|Developing| (1,[0],[1.0])|\n",
      "|Developing| (1,[0],[1.0])|\n",
      "|Developing| (1,[0],[1.0])|\n",
      "|Developing| (1,[0],[1.0])|\n",
      "|Developing| (1,[0],[1.0])|\n",
      "|Developing| (1,[0],[1.0])|\n",
      "|Developing| (1,[0],[1.0])|\n",
      "+----------+--------------+\n",
      "only showing top 20 rows\n",
      "\n"
     ]
    }
   ],
   "source": [
    "one_hot_encoder = OneHotEncoder(inputCol='Status_indexed', outputCol='Status_encoded')\n",
    "\n",
    "encoded_data = one_hot_encoder.fit(indexed_data).transform(indexed_data)\n",
    "encoded_data.select('Status', 'Status_encoded').show()"
   ]
  },
  {
   "cell_type": "code",
   "execution_count": 28,
   "id": "a2e82660-4e13-47d8-b347-6ec6ed0613a0",
   "metadata": {},
   "outputs": [
    {
     "data": {
      "text/plain": [
       "['Country',\n",
       " 'Year',\n",
       " 'Status',\n",
       " 'Life expectancy',\n",
       " 'Adult Mortality',\n",
       " 'infant deaths',\n",
       " 'Alcohol',\n",
       " 'percentage expenditure',\n",
       " 'Hepatitis B',\n",
       " 'Measles',\n",
       " 'BMI',\n",
       " 'under-five deaths',\n",
       " 'Polio',\n",
       " 'Total expenditure',\n",
       " 'Diphtheria',\n",
       " 'HIV/AIDS',\n",
       " 'GDP',\n",
       " 'Population',\n",
       " 'thinness  1-19 years',\n",
       " 'thinness 5-9 years',\n",
       " 'Income composition of resources',\n",
       " 'Schooling',\n",
       " 'Country_indexed',\n",
       " 'Status_indexed',\n",
       " 'Status_encoded']"
      ]
     },
     "execution_count": 28,
     "metadata": {},
     "output_type": "execute_result"
    }
   ],
   "source": [
    "df3 = encoded_data\n",
    "df3.columns"
   ]
  },
  {
   "cell_type": "code",
   "execution_count": 29,
   "id": "3a585c05-702a-44ce-956a-b76c7a00d2fd",
   "metadata": {},
   "outputs": [],
   "source": [
    "assembler = VectorAssembler(inputCols=['Country_indexed','Year','Status_encoded','Adult Mortality','infant deaths','Alcohol','percentage expenditure',\n",
    " 'Hepatitis B','Measles','BMI','under-five deaths','Polio','Total expenditure','Diphtheria','HIV/AIDS','GDP','Population','thinness  1-19 years','thinness 5-9 years','Income composition of resources',\n",
    " 'Schooling'], outputCol='features')\n",
    "output = assembler.transform(df3)"
   ]
  },
  {
   "cell_type": "code",
   "execution_count": 30,
   "id": "6a48d08d-1de0-4cf8-94ce-3f952251e13f",
   "metadata": {},
   "outputs": [
    {
     "name": "stdout",
     "output_type": "stream",
     "text": [
      "+--------------------+---------------+\n",
      "|            features|Life expectancy|\n",
      "+--------------------+---------------+\n",
      "|[0.0,2015.0,1.0,2...|           65.0|\n",
      "|[0.0,2014.0,1.0,2...|           59.9|\n",
      "|[0.0,2013.0,1.0,2...|           59.9|\n",
      "|[0.0,2012.0,1.0,2...|           59.5|\n",
      "|[0.0,2011.0,1.0,2...|           59.2|\n",
      "|[0.0,2010.0,1.0,2...|           58.8|\n",
      "|[0.0,2009.0,1.0,2...|           58.6|\n",
      "|[0.0,2008.0,1.0,2...|           58.1|\n",
      "|[0.0,2007.0,1.0,2...|           57.5|\n",
      "|[0.0,2006.0,1.0,2...|           57.3|\n",
      "|[0.0,2005.0,1.0,2...|           57.3|\n",
      "|[0.0,2004.0,1.0,2...|           57.0|\n",
      "|[0.0,2003.0,1.0,2...|           56.7|\n",
      "|[0.0,2002.0,1.0,3...|           56.2|\n",
      "|[0.0,2001.0,1.0,3...|           55.3|\n",
      "|[0.0,2000.0,1.0,3...|           54.8|\n",
      "|[1.0,2015.0,1.0,7...|           77.8|\n",
      "|[1.0,2014.0,1.0,8...|           77.5|\n",
      "|[1.0,2013.0,1.0,8...|           77.2|\n",
      "|[1.0,2012.0,1.0,8...|           76.9|\n",
      "+--------------------+---------------+\n",
      "only showing top 20 rows\n",
      "\n"
     ]
    }
   ],
   "source": [
    "output.select('features','Life expectancy').show()"
   ]
  },
  {
   "cell_type": "code",
   "execution_count": 31,
   "id": "cbbc906a-47c2-4954-b860-b894b54534d4",
   "metadata": {},
   "outputs": [
    {
     "name": "stdout",
     "output_type": "stream",
     "text": [
      "+--------------------+---------------+\n",
      "|            features|Life expectancy|\n",
      "+--------------------+---------------+\n",
      "|[0.0,2015.0,1.0,2...|           65.0|\n",
      "|[0.0,2014.0,1.0,2...|           59.9|\n",
      "|[0.0,2013.0,1.0,2...|           59.9|\n",
      "|[0.0,2012.0,1.0,2...|           59.5|\n",
      "|[0.0,2011.0,1.0,2...|           59.2|\n",
      "|[0.0,2010.0,1.0,2...|           58.8|\n",
      "|[0.0,2009.0,1.0,2...|           58.6|\n",
      "|[0.0,2008.0,1.0,2...|           58.1|\n",
      "|[0.0,2007.0,1.0,2...|           57.5|\n",
      "|[0.0,2006.0,1.0,2...|           57.3|\n",
      "|[0.0,2005.0,1.0,2...|           57.3|\n",
      "|[0.0,2004.0,1.0,2...|           57.0|\n",
      "|[0.0,2003.0,1.0,2...|           56.7|\n",
      "|[0.0,2002.0,1.0,3...|           56.2|\n",
      "|[0.0,2001.0,1.0,3...|           55.3|\n",
      "|[0.0,2000.0,1.0,3...|           54.8|\n",
      "|[1.0,2015.0,1.0,7...|           77.8|\n",
      "|[1.0,2014.0,1.0,8...|           77.5|\n",
      "|[1.0,2013.0,1.0,8...|           77.2|\n",
      "|[1.0,2012.0,1.0,8...|           76.9|\n",
      "+--------------------+---------------+\n",
      "only showing top 20 rows\n",
      "\n"
     ]
    }
   ],
   "source": [
    "df_final = output.select('features','Life expectancy')\n",
    "df_final.show()"
   ]
  },
  {
   "cell_type": "code",
   "execution_count": 32,
   "id": "1ec11ef3-22ef-4ffa-a872-2dc8b2fafadb",
   "metadata": {},
   "outputs": [],
   "source": [
    "train_data,test_data = df_final.randomSplit([0.75,0.25], seed=42)"
   ]
  },
  {
   "cell_type": "markdown",
   "id": "f073db19-0be8-4aff-9eab-41d8c03ca722",
   "metadata": {},
   "source": [
    "### Performing a `StandardScaler` transformation after splitting\n",
    "**NOTE:** should only be applied on the training data during the fitting process to avoid data leakage. Once the scaler is fitted to the training data, you can use it to transform both the training and test datasets.\n",
    "\n",
    "- applying `StandardScaler` ensures that the model performs optimally by standardizing feature scales, improving convergence speed, and maintaining fairness among features in distance-based calculations or regularization techniques.\n",
    "\n",
    "### Why fit only on training data?\n",
    "- Fitting on the entire dataset (including test data) would result in data leakage, where information from the test set influences the model during training. This leads to overestimation of model performance.\n",
    "- \r\n",
    "By fitting only on the training data, you ensure that your model generalizes well to unseen data (test set)."
   ]
  },
  {
   "cell_type": "code",
   "execution_count": 33,
   "id": "71723d3e-3fde-4609-9ef3-4954dc554d6f",
   "metadata": {},
   "outputs": [
    {
     "name": "stdout",
     "output_type": "stream",
     "text": [
      "+--------------------+--------------------+\n",
      "|            features|     scaled_features|\n",
      "+--------------------+--------------------+\n",
      "|[0.0,2000.0,1.0,3...|[-1.5974581512860...|\n",
      "|[0.0,2001.0,1.0,3...|[-1.5974581512860...|\n",
      "|[0.0,2003.0,1.0,2...|[-1.5974581512860...|\n",
      "|[0.0,2004.0,1.0,2...|[-1.5974581512860...|\n",
      "|[0.0,2005.0,1.0,2...|[-1.5974581512860...|\n",
      "|[0.0,2007.0,1.0,2...|[-1.5974581512860...|\n",
      "|[0.0,2010.0,1.0,2...|[-1.5974581512860...|\n",
      "|[0.0,2011.0,1.0,2...|[-1.5974581512860...|\n",
      "|[0.0,2012.0,1.0,2...|[-1.5974581512860...|\n",
      "|[0.0,2014.0,1.0,2...|[-1.5974581512860...|\n",
      "|[0.0,2015.0,1.0,2...|[-1.5974581512860...|\n",
      "|[1.0,2000.0,1.0,1...|[-1.5691100578394...|\n",
      "|[1.0,2001.0,1.0,1...|[-1.5691100578394...|\n",
      "|[1.0,2002.0,1.0,1...|[-1.5691100578394...|\n",
      "|[1.0,2004.0,1.0,1...|[-1.5691100578394...|\n",
      "|[1.0,2005.0,1.0,1...|[-1.5691100578394...|\n",
      "|[1.0,2006.0,1.0,9...|[-1.5691100578394...|\n",
      "|[1.0,2008.0,1.0,1...|[-1.5691100578394...|\n",
      "|[1.0,2009.0,1.0,9...|[-1.5691100578394...|\n",
      "|[1.0,2010.0,1.0,9...|[-1.5691100578394...|\n",
      "+--------------------+--------------------+\n",
      "only showing top 20 rows\n",
      "\n"
     ]
    }
   ],
   "source": [
    "#initialise the StandarScaler\n",
    "scaler = StandardScaler(inputCol=\"features\", outputCol=\"scaled_features\", withStd=True, withMean=True)\n",
    "\n",
    "#Fit scaler on the trainign data\n",
    "scaler_model = scaler.fit(train_data)\n",
    "\n",
    "#Transform both training and the test datasets\n",
    "train_data_scaled = scaler_model.transform(train_data)\n",
    "test_data_scaled = scaler_model.transform(test_data)\n",
    "\n",
    "#Display scaled features\n",
    "train_data_scaled.select('features','scaled_features').show()"
   ]
  },
  {
   "cell_type": "code",
   "execution_count": 34,
   "id": "9a36f4d3-5f1f-4cc4-9658-daaaa99fb5ef",
   "metadata": {},
   "outputs": [
    {
     "name": "stdout",
     "output_type": "stream",
     "text": [
      "+--------------------+--------------------+\n",
      "|            features|     scaled_features|\n",
      "+--------------------+--------------------+\n",
      "|[0.0,2002.0,1.0,3...|[-1.5974581512860...|\n",
      "|[0.0,2006.0,1.0,2...|[-1.5974581512860...|\n",
      "|[0.0,2008.0,1.0,2...|[-1.5974581512860...|\n",
      "|[0.0,2009.0,1.0,2...|[-1.5974581512860...|\n",
      "|[0.0,2013.0,1.0,2...|[-1.5974581512860...|\n",
      "|[1.0,2003.0,1.0,1...|[-1.5691100578394...|\n",
      "|[1.0,2007.0,1.0,9...|[-1.5691100578394...|\n",
      "|[1.0,2013.0,1.0,8...|[-1.5691100578394...|\n",
      "|[1.0,2014.0,1.0,8...|[-1.5691100578394...|\n",
      "|[2.0,2000.0,1.0,1...|[-1.5407619643927...|\n",
      "|[2.0,2002.0,1.0,1...|[-1.5407619643927...|\n",
      "|[2.0,2003.0,1.0,1...|[-1.5407619643927...|\n",
      "|[2.0,2010.0,1.0,1...|[-1.5407619643927...|\n",
      "|[2.0,2013.0,1.0,1...|[-1.5407619643927...|\n",
      "|[2.0,2014.0,1.0,1...|[-1.5407619643927...|\n",
      "|[3.0,2000.0,0.0,9...|[-1.5124138709461...|\n",
      "|[3.0,2002.0,0.0,9...|[-1.5124138709461...|\n",
      "|[3.0,2004.0,0.0,8...|[-1.5124138709461...|\n",
      "|[3.0,2008.0,0.0,7...|[-1.5124138709461...|\n",
      "|[4.0,2000.0,1.0,2...|[-1.4840657774994...|\n",
      "+--------------------+--------------------+\n",
      "only showing top 20 rows\n",
      "\n"
     ]
    }
   ],
   "source": [
    "test_data_scaled.select('features','scaled_features').show()"
   ]
  },
  {
   "cell_type": "code",
   "execution_count": 35,
   "id": "5a086174-00be-4b3f-981b-a4e90873c9e6",
   "metadata": {},
   "outputs": [
    {
     "name": "stdout",
     "output_type": "stream",
     "text": [
      "+--------------------+---------------+--------------------+\n",
      "|            features|Life expectancy|     scaled_features|\n",
      "+--------------------+---------------+--------------------+\n",
      "|[0.0,2000.0,1.0,3...|           54.8|[-1.5974581512860...|\n",
      "|[0.0,2001.0,1.0,3...|           55.3|[-1.5974581512860...|\n",
      "|[0.0,2003.0,1.0,2...|           56.7|[-1.5974581512860...|\n",
      "|[0.0,2004.0,1.0,2...|           57.0|[-1.5974581512860...|\n",
      "|[0.0,2005.0,1.0,2...|           57.3|[-1.5974581512860...|\n",
      "|[0.0,2007.0,1.0,2...|           57.5|[-1.5974581512860...|\n",
      "|[0.0,2010.0,1.0,2...|           58.8|[-1.5974581512860...|\n",
      "|[0.0,2011.0,1.0,2...|           59.2|[-1.5974581512860...|\n",
      "|[0.0,2012.0,1.0,2...|           59.5|[-1.5974581512860...|\n",
      "|[0.0,2014.0,1.0,2...|           59.9|[-1.5974581512860...|\n",
      "|[0.0,2015.0,1.0,2...|           65.0|[-1.5974581512860...|\n",
      "|[1.0,2000.0,1.0,1...|           72.6|[-1.5691100578394...|\n",
      "|[1.0,2001.0,1.0,1...|           73.6|[-1.5691100578394...|\n",
      "|[1.0,2002.0,1.0,1...|           73.3|[-1.5691100578394...|\n",
      "|[1.0,2004.0,1.0,1...|           73.0|[-1.5691100578394...|\n",
      "|[1.0,2005.0,1.0,1...|           73.5|[-1.5691100578394...|\n",
      "|[1.0,2006.0,1.0,9...|           74.2|[-1.5691100578394...|\n",
      "|[1.0,2008.0,1.0,1...|           75.3|[-1.5691100578394...|\n",
      "|[1.0,2009.0,1.0,9...|           76.1|[-1.5691100578394...|\n",
      "|[1.0,2010.0,1.0,9...|           76.2|[-1.5691100578394...|\n",
      "+--------------------+---------------+--------------------+\n",
      "only showing top 20 rows\n",
      "\n"
     ]
    }
   ],
   "source": [
    "train_data_scaled.show()"
   ]
  },
  {
   "cell_type": "markdown",
   "id": "a975c94a-237b-4563-9f8f-e24f4c55202f",
   "metadata": {},
   "source": [
    "### Performing the Linear Regression "
   ]
  },
  {
   "cell_type": "code",
   "execution_count": 36,
   "id": "0b417403-8f80-4233-9ec1-3d15ef777e6e",
   "metadata": {},
   "outputs": [],
   "source": [
    "regressor = LinearRegression(featuresCol='scaled_features', labelCol='Life expectancy')\n",
    "\n",
    "#Fit the model on scaled training data\n",
    "lr_model = regressor.fit(train_data_scaled)\n",
    "\n",
    "#Make predictions on scaled test data\n",
    "predictions = lr_model.transform(test_data_scaled)"
   ]
  },
  {
   "cell_type": "code",
   "execution_count": 37,
   "id": "14fbd267-0f60-4628-a493-21dd6f8f9ec9",
   "metadata": {},
   "outputs": [
    {
     "data": {
      "text/plain": [
       "DenseVector([-0.3324, -0.3555, -0.3697, -1.8503, 10.4116, -0.559, 0.6515, -0.2273, -0.1549, 0.7064, -10.4682, 0.2608, 0.3138, 0.2715, -2.8269, 0.1113, -0.1855, 0.1521, -0.3498, 1.9015, 2.3669])"
      ]
     },
     "execution_count": 37,
     "metadata": {},
     "output_type": "execute_result"
    }
   ],
   "source": [
    "lr_model.coefficients"
   ]
  },
  {
   "cell_type": "code",
   "execution_count": 38,
   "id": "cc1b7bb3-54d5-4c5a-91ee-43b0bd826458",
   "metadata": {},
   "outputs": [
    {
     "data": {
      "text/plain": [
       "69.63484021823848"
      ]
     },
     "execution_count": 38,
     "metadata": {},
     "output_type": "execute_result"
    }
   ],
   "source": [
    "lr_model.intercept"
   ]
  },
  {
   "cell_type": "code",
   "execution_count": 39,
   "id": "22f93854-9f3f-43da-a248-4d46c4411f4b",
   "metadata": {},
   "outputs": [
    {
     "name": "stdout",
     "output_type": "stream",
     "text": [
      "+--------------------+---------------+--------------------+------------------+\n",
      "|            features|Life expectancy|     scaled_features|        prediction|\n",
      "+--------------------+---------------+--------------------+------------------+\n",
      "|[0.0,2002.0,1.0,3...|           56.2|[-1.5974581512860...| 64.84169092964763|\n",
      "|[0.0,2006.0,1.0,2...|           57.3|[-1.5974581512860...|  61.6339167293237|\n",
      "|[0.0,2008.0,1.0,2...|           58.1|[-1.5974581512860...|62.750070506916586|\n",
      "|[0.0,2009.0,1.0,2...|           58.6|[-1.5974581512860...| 63.09453536722481|\n",
      "|[0.0,2013.0,1.0,2...|           59.9|[-1.5974581512860...| 64.18978232534154|\n",
      "|[1.0,2003.0,1.0,1...|           72.8|[-1.5691100578394...| 73.09076018489701|\n",
      "|[1.0,2007.0,1.0,9...|           75.9|[-1.5691100578394...| 73.91826397962433|\n",
      "|[1.0,2013.0,1.0,8...|           77.2|[-1.5691100578394...| 75.36339836911196|\n",
      "|[1.0,2014.0,1.0,8...|           77.5|[-1.5691100578394...|  76.5255089329257|\n",
      "|[2.0,2000.0,1.0,1...|           72.0|[-1.5407619643927...| 72.01613488005368|\n",
      "|[2.0,2002.0,1.0,1...|           72.6|[-1.5407619643927...| 71.30303459281619|\n",
      "|[2.0,2003.0,1.0,1...|           72.7|[-1.5407619643927...|  71.3030219619582|\n",
      "|[2.0,2010.0,1.0,1...|           73.5|[-1.5407619643927...| 72.53367276334228|\n",
      "|[2.0,2013.0,1.0,1...|           74.4|[-1.5407619643927...| 73.08571797049967|\n",
      "|[2.0,2014.0,1.0,1...|           74.6|[-1.5407619643927...|  74.6980024231488|\n",
      "|[3.0,2000.0,0.0,9...|           78.1|[-1.5124138709461...| 76.91627546414757|\n",
      "|[3.0,2002.0,0.0,9...|           78.7|[-1.5124138709461...| 80.38841450651083|\n",
      "|[3.0,2004.0,0.0,8...|           79.3|[-1.5124138709461...|  78.5119088847682|\n",
      "|[3.0,2008.0,0.0,7...|           84.0|[-1.5124138709461...| 80.22462196452092|\n",
      "|[4.0,2000.0,1.0,2...|           68.0|[-1.4840657774994...| 71.74882426037452|\n",
      "+--------------------+---------------+--------------------+------------------+\n",
      "only showing top 20 rows\n",
      "\n"
     ]
    }
   ],
   "source": [
    "lr_model.evaluate(test_data_scaled).predictions.show()"
   ]
  },
  {
   "cell_type": "markdown",
   "id": "ea0dc668-f297-4416-8fd1-eefa909cabc5",
   "metadata": {},
   "source": [
    "- r2 indicates how well the model fits the data. An r2 value closer to 1 means that the model explains most of the variability on the data."
   ]
  },
  {
   "cell_type": "code",
   "execution_count": 40,
   "id": "a5e5a039-675d-4c85-86ee-6170ef5efae3",
   "metadata": {},
   "outputs": [
    {
     "data": {
      "text/plain": [
       "0.835649809452287"
      ]
     },
     "execution_count": 40,
     "metadata": {},
     "output_type": "execute_result"
    }
   ],
   "source": [
    "lr_model.evaluate(test_data_scaled).r2"
   ]
  },
  {
   "cell_type": "code",
   "execution_count": 41,
   "id": "d33238fd-32d8-436e-8624-47c0e8a69572",
   "metadata": {},
   "outputs": [
    {
     "data": {
      "text/plain": [
       "(2.8107860132835745, 13.015398739543311)"
      ]
     },
     "execution_count": 41,
     "metadata": {},
     "output_type": "execute_result"
    }
   ],
   "source": [
    "#Performance metrics\n",
    "lr_model.evaluate(test_data_scaled).meanAbsoluteError, lr_model.evaluate(test_data_scaled).meanSquaredError"
   ]
  },
  {
   "cell_type": "markdown",
   "id": "aad18043-9f10-4c82-8827-2bffcbb9c503",
   "metadata": {},
   "source": [
    "### Evaluate the model(different approach)"
   ]
  },
  {
   "cell_type": "code",
   "execution_count": 42,
   "id": "bbb1cbdf-ecd8-42d8-be71-8869eeaf3250",
   "metadata": {},
   "outputs": [
    {
     "name": "stdout",
     "output_type": "stream",
     "text": [
      "Root Mean Squared Error (RMSE): 3.6076860644384388\n"
     ]
    }
   ],
   "source": [
    "from pyspark.ml.evaluation import RegressionEvaluator\n",
    "evaluator = RegressionEvaluator(labelCol='Life expectancy', predictionCol='prediction', metricName='rmse')\n",
    "rmse = evaluator.evaluate(predictions)\n",
    "\n",
    "print(f\"Root Mean Squared Error (RMSE): {rmse}\")"
   ]
  },
  {
   "cell_type": "code",
   "execution_count": null,
   "id": "2299f827-5142-4e0e-95f4-b995459f5061",
   "metadata": {},
   "outputs": [],
   "source": []
  },
  {
   "cell_type": "markdown",
   "id": "8ce53e7c-abec-4fb6-8747-d7f33f597dfe",
   "metadata": {},
   "source": [
    "### Hyperparameter tuning with cross-validation"
   ]
  },
  {
   "cell_type": "code",
   "execution_count": 43,
   "id": "9852a810-defd-4c6c-b237-766565c00484",
   "metadata": {},
   "outputs": [],
   "source": [
    "from pyspark.ml.tuning import ParamGridBuilder, CrossValidator\n",
    "from pyspark.ml.evaluation import RegressionEvaluator"
   ]
  },
  {
   "cell_type": "code",
   "execution_count": 44,
   "id": "21e7ee76-c350-40cb-afe2-f2c2333691f3",
   "metadata": {},
   "outputs": [
    {
     "data": {
      "text/plain": [
       "DataFrame[features: vector, Life expectancy: double, scaled_features: vector]"
      ]
     },
     "execution_count": 44,
     "metadata": {},
     "output_type": "execute_result"
    }
   ],
   "source": [
    "#using disk-based storage level due to memory overload, this avoids too much memory usage \n",
    "from pyspark.storagelevel import StorageLevel\n",
    "\n",
    "train_data_scaled.persist(StorageLevel.DISK_ONLY)"
   ]
  },
  {
   "cell_type": "code",
   "execution_count": 45,
   "id": "0a391c54-205c-4dc7-a301-e1aa6d1f8b05",
   "metadata": {},
   "outputs": [],
   "source": [
    "# Define hyperparameter grid for linear regression\n",
    "param_grid = ParamGridBuilder() \\\n",
    "    .addGrid(regressor.elasticNetParam, [0.0, 0.5, 1.0]) \\\n",
    "    .addGrid(regressor.maxIter, [10, 50, 100]) \\\n",
    "    .build()\n",
    "\n",
    "# Initialize evaluator\n",
    "evaluator = RegressionEvaluator(labelCol=\"Life expectancy\", predictionCol=\"prediction\", metricName=\"rmse\")\n",
    "\n",
    "# Create cross-validator\n",
    "cv = CrossValidator(estimator=regressor, estimatorParamMaps=param_grid, evaluator=evaluator, numFolds=5)\n",
    "\n",
    "# Fit cross-validator\n",
    "cv_model = cv.fit(train_data_scaled)\n",
    "\n",
    "# Get best model and parameters\n",
    "best_model = cv_model.bestModel\n",
    "best_params = best_model.extractParamMap()"
   ]
  },
  {
   "cell_type": "code",
   "execution_count": 46,
   "id": "d9b6a342-9732-477b-b86f-4d581ac1c022",
   "metadata": {},
   "outputs": [],
   "source": [
    "# print(spark.conf.get(\"spark.executor.memory\"))\n",
    "# print(spark.conf.get(\"spark.driver.memory\"))"
   ]
  },
  {
   "cell_type": "code",
   "execution_count": 47,
   "id": "6fd3161a-07fe-4510-91e2-c82dc12b4bd5",
   "metadata": {},
   "outputs": [
    {
     "name": "stdout",
     "output_type": "stream",
     "text": [
      "{Param(parent='LinearRegression_448664a9b971', name='aggregationDepth', doc='suggested depth for treeAggregate (>= 2).'): 2, Param(parent='LinearRegression_448664a9b971', name='elasticNetParam', doc='the ElasticNet mixing parameter, in range [0, 1]. For alpha = 0, the penalty is an L2 penalty. For alpha = 1, it is an L1 penalty.'): 0.0, Param(parent='LinearRegression_448664a9b971', name='epsilon', doc='The shape parameter to control the amount of robustness. Must be > 1.0. Only valid when loss is huber'): 1.35, Param(parent='LinearRegression_448664a9b971', name='featuresCol', doc='features column name.'): 'scaled_features', Param(parent='LinearRegression_448664a9b971', name='fitIntercept', doc='whether to fit an intercept term.'): True, Param(parent='LinearRegression_448664a9b971', name='labelCol', doc='label column name.'): 'Life expectancy', Param(parent='LinearRegression_448664a9b971', name='loss', doc='The loss function to be optimized. Supported options: squaredError, huber.'): 'squaredError', Param(parent='LinearRegression_448664a9b971', name='maxBlockSizeInMB', doc='maximum memory in MB for stacking input data into blocks. Data is stacked within partitions. If more than remaining data size in a partition then it is adjusted to the data size. Default 0.0 represents choosing optimal value, depends on specific algorithm. Must be >= 0.'): 0.0, Param(parent='LinearRegression_448664a9b971', name='maxIter', doc='max number of iterations (>= 0).'): 10, Param(parent='LinearRegression_448664a9b971', name='predictionCol', doc='prediction column name.'): 'prediction', Param(parent='LinearRegression_448664a9b971', name='regParam', doc='regularization parameter (>= 0).'): 0.0, Param(parent='LinearRegression_448664a9b971', name='solver', doc='The solver algorithm for optimization. Supported options: auto, normal, l-bfgs.'): 'auto', Param(parent='LinearRegression_448664a9b971', name='standardization', doc='whether to standardize the training features before fitting the model.'): True, Param(parent='LinearRegression_448664a9b971', name='tol', doc='the convergence tolerance for iterative algorithms (>= 0).'): 1e-06}\n"
     ]
    }
   ],
   "source": [
    "print(best_params)"
   ]
  },
  {
   "cell_type": "code",
   "execution_count": 48,
   "id": "b7d595f4-90ad-4deb-93a3-1a41b83715f4",
   "metadata": {},
   "outputs": [
    {
     "name": "stdout",
     "output_type": "stream",
     "text": [
      "aggregationDepth: 2\n",
      "elasticNetParam: 0.0\n",
      "epsilon: 1.35\n",
      "featuresCol: scaled_features\n",
      "fitIntercept: True\n",
      "labelCol: Life expectancy\n",
      "loss: squaredError\n",
      "maxBlockSizeInMB: 0.0\n",
      "maxIter: 10\n",
      "predictionCol: prediction\n",
      "regParam: 0.0\n",
      "solver: auto\n",
      "standardization: True\n",
      "tol: 1e-06\n"
     ]
    }
   ],
   "source": [
    "#making it more readable\n",
    "for param, value in best_params.items():\n",
    "    print(f\"{param.name}: {value}\")"
   ]
  },
  {
   "cell_type": "code",
   "execution_count": 49,
   "id": "3697637c-5860-4c8d-82f5-e3ebd4d936cd",
   "metadata": {},
   "outputs": [
    {
     "name": "stdout",
     "output_type": "stream",
     "text": [
      "Best RMSE: 3.6076860644384388\n"
     ]
    }
   ],
   "source": [
    "# Evaluate best model on test data\n",
    "best_predictions = best_model.transform(test_data_scaled)\n",
    "\n",
    "#evaluate RMSE\n",
    "best_rmse = evaluator.evaluate(best_predictions)\n",
    "\n",
    "#print out the RMSE of the best model \n",
    "print(f\"Best RMSE: {best_rmse}\")"
   ]
  },
  {
   "cell_type": "markdown",
   "id": "971fc00a-d8e6-4779-958d-60145cf09eae",
   "metadata": {},
   "source": [
    "- No change in the RMSE as per the last evaluation"
   ]
  }
 ],
 "metadata": {
  "kernelspec": {
   "display_name": "Python 3 (ipykernel)",
   "language": "python",
   "name": "python3"
  },
  "language_info": {
   "codemirror_mode": {
    "name": "ipython",
    "version": 3
   },
   "file_extension": ".py",
   "mimetype": "text/x-python",
   "name": "python",
   "nbconvert_exporter": "python",
   "pygments_lexer": "ipython3",
   "version": "3.12.0"
  }
 },
 "nbformat": 4,
 "nbformat_minor": 5
}
